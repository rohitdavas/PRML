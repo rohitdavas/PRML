{
 "cells": [
  {
   "cell_type": "markdown",
   "metadata": {},
   "source": [
    "# Chapter 3 "
   ]
  },
  {
   "cell_type": "code",
   "execution_count": 1,
   "metadata": {},
   "outputs": [],
   "source": [
    "import numpy as np"
   ]
  },
  {
   "cell_type": "markdown",
   "metadata": {},
   "source": [
    "## Bayes linear regression "
   ]
  },
  {
   "cell_type": "markdown",
   "metadata": {},
   "source": [
    "### Create dataset"
   ]
  },
  {
   "cell_type": "code",
   "execution_count": 16,
   "metadata": {
    "code_folding": [
     0
    ]
   },
   "outputs": [],
   "source": [
    "def generate_dataset(start_x, end_x, sample_size, std):\n",
    "    \n",
    "    def linear ( x ):\n",
    "        return -0.3 + 0.5 * x \n",
    "    \n",
    "    # generate sample_size points in range (start_x, end_x)\n",
    "    x = np.linspace( start_x, end_x, sample_size)\n",
    "    \n",
    "    # randomly shuffle \n",
    "    np.random.shuffle(x)\n",
    "    \n",
    "    # generate target \n",
    "    t = linear(x) + np.random.normal(loc = 0.0, scale=std, size=sample_size)\n",
    "    \n",
    "    return x, t "
   ]
  },
  {
   "cell_type": "code",
   "execution_count": 17,
   "metadata": {
    "code_folding": [
     0
    ]
   },
   "outputs": [],
   "source": [
    "def convert_to_polynomial(x, degree):\n",
    "    assert x.ndim == 1, \" this is written for conversion of only single dimension x\"\n",
    "    assert  degree >= 0, \"degree must be positive\"\n",
    "    x = x[:,np.newaxis]\n",
    "\n",
    "    N = x.shape[0]\n",
    "\n",
    "    # X will be a matrix of shape N * (degree + 1)\n",
    "    X = np.ones(shape=(N, 1+degree))\n",
    "\n",
    "    for degree_dim in range(1, degree+1):\n",
    "        X[:, degree_dim] = np.power ( x[:,0], degree_dim )\n",
    "        \n",
    "    return X "
   ]
  },
  {
   "cell_type": "code",
   "execution_count": 18,
   "metadata": {},
   "outputs": [],
   "source": [
    "# dataset generation for training. \n",
    "x_train, y_train = generate_dataset(-1, 1, 20, 0.1)\n",
    "x_train = convert_to_polynomial(x_train, 1)\n",
    "\n",
    "# for testing \n",
    "x = np.linspace(-1,1, 100)\n",
    "x = convert_to_polynomial(x, 1)"
   ]
  },
  {
   "cell_type": "code",
   "execution_count": 19,
   "metadata": {},
   "outputs": [],
   "source": [
    "# TODO to understand why ?? \n",
    "# create grid\n",
    "w0, w1 = np.meshgrid ( np.linspace ( -1, 1, 100), np.linspace(-1,1,100))\n",
    "w = np.array ( [w0,w1]).transpose(1,2,0)"
   ]
  },
  {
   "cell_type": "markdown",
   "metadata": {},
   "source": [
    "### Write algorithm"
   ]
  },
  {
   "cell_type": "code",
   "execution_count": null,
   "metadata": {},
   "outputs": [],
   "source": [
    "# algorithm \n",
    "# parameters\n",
    "\n",
    "alpha = 1.0\n",
    "beta = 100.0 \n"
   ]
  }
 ],
 "metadata": {
  "kernelspec": {
   "display_name": "PyCharm (Project PRML)",
   "language": "python",
   "name": "pycharm-ddcd9f7a"
  },
  "language_info": {
   "codemirror_mode": {
    "name": "ipython",
    "version": 3
   },
   "file_extension": ".py",
   "mimetype": "text/x-python",
   "name": "python",
   "nbconvert_exporter": "python",
   "pygments_lexer": "ipython3",
   "version": "3.8.5"
  }
 },
 "nbformat": 4,
 "nbformat_minor": 4
}
